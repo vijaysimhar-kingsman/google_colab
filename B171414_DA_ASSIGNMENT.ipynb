{
  "nbformat": 4,
  "nbformat_minor": 0,
  "metadata": {
    "kernelspec": {
      "display_name": "Python 3",
      "language": "python",
      "name": "python3"
    },
    "language_info": {
      "codemirror_mode": {
        "name": "ipython",
        "version": 3
      },
      "file_extension": ".py",
      "mimetype": "text/x-python",
      "name": "python",
      "nbconvert_exporter": "python",
      "pygments_lexer": "ipython3",
      "version": "3.8.3"
    },
    "colab": {
      "name": "B171414_DA-ASSIGNMENT.ipynb",
      "provenance": [],
      "collapsed_sections": [],
      "include_colab_link": true
    }
  },
  "cells": [
    {
      "cell_type": "markdown",
      "metadata": {
        "id": "view-in-github",
        "colab_type": "text"
      },
      "source": [
        "<a href=\"https://colab.research.google.com/github/vijaysimhar-kingsman/google_colab/blob/main/B171414_DA_ASSIGNMENT.ipynb\" target=\"_parent\"><img src=\"https://colab.research.google.com/assets/colab-badge.svg\" alt=\"Open In Colab\"/></a>"
      ]
    },
    {
      "cell_type": "markdown",
      "metadata": {
        "id": "Pp_rydvzbiYu"
      },
      "source": [
        " <pre><b>\n",
        "Name  :  Kamidi Vijayasimha Reddy                                 Course     :  Data Analytics\n",
        "ID    :  B171414                                                 Assignment  :  01\n",
        "</b></pre>"
      ]
    },
    {
      "cell_type": "markdown",
      "metadata": {
        "id": "IRpToPV0biY8"
      },
      "source": [
        "<b>1.</b> What is Data Analytics? Explain different types.\n",
        "<p style=\"color: Blue\"> <span style=\"color: Black\">A:</span> Analytics is the discover, interpretation, and communication of\n",
        "meaningful patterns or summery in data.<br></p>\n",
        "<p>  Data Analytics is the process of examining data sets in order to draw conclusion\n",
        "about the information it contains.\n",
        "Analytics is not a tool or technology, rather it is the way of thinking\n",
        "and acting on data.Data analysis is the process of examining, transforming, and arranging\n",
        "raw data in a specific way to generate useful information from it \n",
        "    <center><b>TYPES OF DATA ANALYTICS:</b></center>\n",
        "<ul style=\"color: Blue\">\n",
        "    <hr>\n",
        "    <li><b>Descriptive analytics</b> is the conventional form of Business intelligence and data analysis.It seeks to provide a depiction or summary view of facts and figures in an understandable format.Descriptive analysis or statistics can summarize raw data and convert it into a form that can be easily understood by humans\n",
        "</li>\n",
        "    <hr>\n",
        "    <li><b>Diagnostic analytics</b> helps answer questions about why things happened. These techniques supplement more basic descriptive analytics. They take the findings from descriptive analytics and dig deeper to find the cause. The performance indicators are further investigated to discover why they got better or worse. This generally occurs in three steps:<ul><li>Identify anomalies in the data. These may be unexpected changes in a metric or a particular market.</li><li>Data that is related to these anomalies is collected.</li><li>Statistical techniques are used to find relationships and trends that explain these anomalies.</li></ul></li>\n",
        "    <hr>\n",
        "    <li><b>Predictive analytics</b> helps answer questions about what will happen in the future. These techniques use historical data to identify trends and determine if they are likely to recur. Predictive analytical tools provide valuable insight into what may happen in the future and its techniques include a variety of statistical and machine learning techniques, such as: neural networks, decision trees, and regression.</li>\n",
        "    <hr>\n",
        "    <li><b>Prescriptive analytics</b> helps answer questions about what should be done. By using insights from predictive analytics, data-driven decisions can be made. This allows businesses to make informed decisions in the face of uncertainty. Prescriptive analytics techniques rely on machine learning strategies that can find patterns in large datasets. By analyzing past decisions and events, the likelihood of different outcomes can be estimated.</li>\n",
        "    </ul></p>"
      ]
    },
    {
      "cell_type": "markdown",
      "metadata": {
        "id": "uJWi1O76biY9"
      },
      "source": [
        "<hr>\n",
        "<b>2.</b> Write a descriptive answers for the following:\n",
        "<ul>\n",
        "    <li> Structured data and Unstructured data\n",
        "        <div> <span style=\"color: Black\">A:</span> <table style=\"color:Blue\">\n",
        "        <tr><th style=\"text-align:center\">STRUCTURED DATA</th>\n",
        "            <th style=\"text-align:center\">UNSTRUCTURED DATA</th>\n",
        "        </tr>\n",
        "        <tr><td style=\"text-align:left\">The term structured data refers to data that resides in a fixed field within a file or record.</td>\n",
        "            <td style=\"text-align:left\">Unstructured data is more or less all the data that is not structured. </td> </tr>\n",
        "        <tr><td style=\"text-align:left\">Structured data is clearly defined and searchable types of data,</td>\n",
        "            <td style=\"text-align:left\">Unstructured data is usually stored in its native format. \n",
        "</td></tr>\n",
        "        <tr><td style=\"text-align:left\">Structured data is quantitative</td>\n",
        "            <td style=\"text-align:left\">Unstructured data is qualitative.\n",
        "</td></tr>\n",
        "        <tr><td style=\"text-align:left\">Structured data is often stored in data warehouses,</td>\n",
        "            <td style=\"text-align:left\">Unstructured data is stored in data lakes.</td></tr>\n",
        "        <tr><td style=\"text-align:left\">Structured data is easy to search and analyze</td>\n",
        "            <td style=\"text-align:left\">Unstructured data requires more work to process and understand.</td></tr>\n",
        "        <tr><td style=\"text-align:left\">Structured data exists in predefined formats</td>\n",
        "            <td style=\"text-align:left\">Unstructured data is in a variety of formats. \n",
        "</td></tr>\n",
        "        </table>\n",
        "        </div>\n",
        "    </li>\n",
        "    <hr>\n",
        "    <li> Types of data measurement scales (explain all types) \n",
        "    <p style=\"color: Blue\"> <span style=\"color: Black\">A:</span>   A measurement scale is used to qualify or quantify data variables in statistics.</p>\n",
        "        <ul><li style=\"color: Blue\"><b>Nominal scale</b> is a scale of measurement that is used for identification purposes. It is the coldest and weakest level of data measurement among the four. \n",
        "Sometimes known as categorical scale, it assigns numbers to attributes for easy identity. These numbers are however not qualitative in nature and only act as labels.\n",
        "The only statistical analysis that can be performed on a nominal scale is the percentage or frequency count. It can be analyzed graphically using a bar chart and pie chart.</li>\n",
        "            <hr>\n",
        "            <li style=\"color: Blue\"><b>Ordinal Scale</b> involves the ranking or ordering of the attributes depending on the variable being scaled. The items in this scale are classified according to the degree of occurrence of the variable in question.\n",
        "The attributes on an ordinal scale are usually arranged in ascending or descending order. It measures the degree of occurrence of the variable.\n",
        "Ordinal scale can be used in market research, advertising, and customer satisfaction surveys. It uses qualifiers like very, highly, more, less, etc. to depict a degree.\n",
        "</li>\n",
        "            <hr>\n",
        "            <li style=\"color: Blue\"><b>Interval scale</b> of data measurement is a scale in which the levels are ordered and each numerically equal distances on the scale have equal interval difference. If it is an extension of the ordinal scale, with the main difference being the existence of equal intervals.\n",
        "With an interval scale, you not only know that a given attribute A is bigger than another attribute B, but also the extent at which A is larger than B. Also, unlike ordinal and nominal scale, arithmetic operations can be performed on an interval scale.</li>\n",
        "            <hr>\n",
        "            <li style=\"color: Blue\"><b>Ratio Scale</b> is the peak level of data measurement. It is an extension of the interval scale, therefore satisfying the four characteristics of measurement scale; identity, magnitude, equal interval, and the absolute zero property. \n",
        "This level of data measurement allows the researcher to compare both the differences and the relative magnitude of numbers. Some examples of ratio scales include length, weight, time, etc.\n",
        "With respect to market research, the common ratio scale examples are price, number of customers, competitors, etc. It is extensively used in marketing, advertising, and business sales.\n",
        "The ratio scale of data measurement is compatible with all statistical analysis methods like the measures of central tendency (mean, median, mode, etc.) and measures of dispersion (range, standard deviation, etc.).</li></ul></li>"
      ]
    },
    {
      "cell_type": "markdown",
      "metadata": {
        "id": "8LVSh0H4_d2N"
      },
      "source": [
        "![scales.png](data:image/png;base64,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)"
      ]
    },
    {
      "cell_type": "markdown",
      "metadata": {
        "id": "EBWRyAwUbiZB"
      },
      "source": [
        "<hr>\n",
        "<ul>\n",
        "    <li>Mean, Median, Mode, Percentile, Quartile\n",
        "    <div style=\"color: Blue\"> <span style=\"color: Black\">A:</span> <ul>\n",
        "        <li><b>Mean</b> (average) of a data set is found by adding all numbers in the data set and then dividing by the number of values in the set.$$\\large \\overline{x}=\\frac{\\sum x}{N}$$</li>\n",
        "        <hr>\n",
        "        <li><b>Median</b> is the middle value when a data set is ordered from least to greatest.$$\\large Median=\\left(\\frac{n+1}{2}\\right)^{th}observation \\hspace{10mm}(odd)$$\n",
        "        $$\\large Median=\\frac{\\left(\\frac{n}{2}\\right)^{th}observation+\\left(\\frac{n}{2}+1\\right )^{th}observation}{2}\\hspace{10mm}(even)$$</li>\n",
        "        <hr>\n",
        "        <li><b>Mode</b> is the number that occurs most often in a data set.</li>\n",
        "        <hr>\n",
        "        <li><b>Percentile:</b> the value below which a percentage of data falls.</li>\n",
        "        <hr>\n",
        "        <li><b>Quartiles:</b>which splits the data into quarters.\n",
        "            <ul><li>Quartile 1 (Q1) can be called the 25th percentile</li>\n",
        "                <li>Quartile 2 (Q2) can be called the 50th percentile</li>\n",
        "<li>Quartile 3 (Q3) can be called the 75th percentile</li>\n",
        "            </ul></li>\n",
        "        </ul>\n",
        "    </div></li>\n",
        "    <hr>\n",
        "    <li>Measures of variation (Range, IQD, Variance, Standard Deviation)\n",
        "    <div style=\"color: Blue\"> <span style=\"color: Black\">A:</span> <ul>\n",
        "        <li><b>IQD(Inter Quartile Distance):</b>The interquartile Range is one of the most popular measures of variation used in statistics. It is a measure of how data is spread around the mean. The basic formula is:\n",
        "$$IQD = Q_3 – Q_1$$</li>\n",
        "        <hr>\n",
        "        <li>\n",
        "            <b>Variance</b> tells you how far a data set is spread out, but it is an abstract number that really is only useful for calculating the Standard Deviation</li> \n",
        "        <hr>\n",
        "        <li><b>Range</b>The Range is the difference between the lowest and highest values. </li>\n",
        "        <hr>\n",
        "        <li><b>Standard Deviation</b> is a measure of how spread out numbers are. Its symbol is $\\sigma $ where, $$\\large \\sigma = \\sqrt{\\frac{1}{N}\\sum_{i=1}^N (x_i - \\mu)^2}. $$</li>\n",
        "        </ul>\n",
        "        </div>\n",
        "    </li>\n",
        "    \n",
        "   "
      ]
    },
    {
      "cell_type": "markdown",
      "metadata": {
        "id": "KluxUJs0biZC"
      },
      "source": [
        "<hr>\n",
        "<b>3.</b> What is skewness? Explain types of skewness(positive skew, negative skew, symmetrical skew) with sample graphs and formulas.\n",
        "<p style=\"color: Blue\"> <span style=\"color: Black\">A:</span>Skewness is the measure of the asymmetry of an ideally symmetric probability distribution and is given by the third standardized moment. \n",
        "In simple words, skewness is the measure of how much the probability distribution of a random variable deviates from the normal distribution.</p>"
      ]
    },
    {
      "cell_type": "code",
      "metadata": {
        "id": "hYANWUewbiZE",
        "colab": {
          "base_uri": "https://localhost:8080/",
          "height": 281
        },
        "outputId": "b01add7c-162a-43cb-c8f9-21a34f74c3e1"
      },
      "source": [
        "from scipy.stats import skew\n",
        "import numpy as np \n",
        "import pylab as p \n",
        "import matplotlib.pyplot as plt\n",
        "\n",
        "%matplotlib inline\n",
        "fig, axs = plt.subplots(1, 3,figsize=(16,4))  \n",
        "x1 = np.linspace( -5, 5, 1000 )\n",
        "y1 = 1./(np.sqrt(2.*np.pi)) * np.exp( -.5*(x1)**2  )\n",
        "  \n",
        "axs[0].plot(x1, y1, '*')\n",
        "axs[0].set_title(\"Normal\")\n",
        "  \n",
        "x2 = np.linspace( -5, 12, 1000 )\n",
        "y2 = 1./(np.sqrt(2.*np.pi)) * np.exp( -.5*(x2)**2  )\n",
        "  \n",
        "axs[1].plot(x2, y2, '*')\n",
        "axs[1].set_title(\"Right skewed\")\n",
        "x3 = np.linspace( -5, 2, 1000 )\n",
        "y3 = 1./(np.sqrt(2.*np.pi)) * np.exp( -.5*(x3)**2  )\n",
        "  \n",
        "axs[2].plot(x3, y3, '*')\n",
        "axs[2].set_title(\"Left skewed\") \n",
        "\n",
        "plt.show()"
      ],
      "execution_count": null,
      "outputs": [
        {
          "output_type": "display_data",
          "data": {
            "image/png": "[encoded data removed]",
            "text/plain": [
              "<Figure size 1152x288 with 3 Axes>"
            ]
          },
          "metadata": {
            "tags": [],
            "needs_background": "light"
          }
        }
      ]
    },
    {
      "cell_type": "markdown",
      "metadata": {
        "id": "Klv9oxc3biZH"
      },
      "source": [
        "<b>4.</b> The daily football at a retail store in Hyderabad over the last 30 days is shown below.\n",
        "<table>\n",
        "    <tr><td>232</td><td>277</td><td>261</td><td>173</td><td>283</td><td>197</td><td>251</td><td>212</td><td>213</td><td>213</td>\n",
        "    </tr>\n",
        "    <tr><td>229</td><td>164</td><td>219</td><td>196</td><td>186</td><td>247</td><td>244</td><td>269</td><td>269</td><td>272</td>\n",
        "    </tr>\n",
        "    <tr><td>252</td><td>314</td><td>161</td><td>165</td><td>221</td><td>260</td><td>219</td><td>290</td><td>225</td><td>251</td>\n",
        "    </tr>\n",
        "</table>\n",
        "<hr>\n",
        "<ul>\n",
        "    <li> Calculate the values of first quartile, second and third quartiles. Are there any outliers in the data? Plot the Boxplot daigram.\n",
        "    <p style=\"color: Blue\">  <span style=\"color: Black\">A:</span> writing the data in order: 161, 164, 165, 173, 186, 196, 197, 212, 213, 213, 219, 219, 221, 225, 229, 232, 244, 247, 251, 251, 252, 260, 261, 269, 269, 272, 277, 283, 290, 314. <br> there are 30 observations so median = average of 15th and 16th observation = 230.5\n",
        "  $$Q_2 = 230.5$$   \n",
        "  $$Q_1 = median \\hspace{0.5cm}of \\hspace{0.5cm} first \\hspace{0.5cm} 15 \\hspace{0.5cm} observations = 8th \\hspace{0.5cm} observation = 208.25 $$\n",
        "        $$Q_3 = median \\hspace{0.5cm} of \\hspace{0.5cm} next \\hspace{0.5cm} 15  \\hspace{0.5cm}observations = 24th  \\hspace{0.5cm}observation = 263 $$ there are no outliers in the data</p></li>   "
      ]
    },
    {
      "cell_type": "markdown",
      "metadata": {
        "id": "1EEu-o52biZH"
      },
      "source": [
        " ![boxplot.png](attachment:boxplot.png)"
      ]
    },
    {
      "cell_type": "markdown",
      "metadata": {
        "id": "OT5QYJ1ZbiZI"
      },
      "source": [
        "<hr>\n",
        "    <li> Calculate the mean, median and standard deviation.\n",
        "    <p style=\"color: Blue\"> <span style=\"color: Black\">A:</span> \n",
        "        $$Mean = \\frac{sum of all observations}{total observations} $$\n",
        "        $$\\mu = \\frac{6695}{30} = 232.16  $$\n",
        "        from above $$median = 230.5$$\n",
        "        $$\\sigma = \\sqrt{\\frac{1}{N}\\sum_{i=1}^N (x_i - \\mu)^2}$$\n",
        "        $$\\sigma = \\sqrt{\\frac{1}{30}\\sum_{i=1}^{30}(x_i -232.16 )^2}$$\n",
        "        $$\\sigma = 39.19$$\n",
        "        </p></li>\n",
        "    <hr>\n",
        "<li> Calculate the $90^{th}$ and $95^{th}$ percentile. \n",
        "    <p style=\"color: Blue\"> <span style=\"color: Black\">A:</span> $$90^{th} \\hspace{3mm} percentile = 90\\% \\hspace{3mm} of \\hspace{3mm} 30 = 27th \\hspace{3mm} observation = 277 $$\n",
        "    $$95^{th} \\hspace{3mm} percentile = 95\\% \\hspace{3mm} of \\hspace{3mm} 30 = 28.5th \\hspace{3mm} observation \\sim 29th =290 $$</p></li>\n",
        "    <hr>\n",
        "    <li> Calculate the inter quartile range(IQR). \n",
        "    <p style=\"color: Blue\"> <span style=\"color: Black\">A:</span>\n",
        "    $$IQR=Q_3 - Q_1$$\n",
        "    $$IQR = 263-208.25 $$\n",
        "    $$IQR=54.75 $$</p></li>\n",
        "    <hr>\n",
        "    <li> Create a histogram for the data \n",
        "    <p style=\"color: Blue\"> <span style=\"color: Black\">A:</span>lets see the following program to draw the bar graph</p></li>"
      ]
    },
    {
      "cell_type": "code",
      "metadata": {
        "id": "LBpCiaK5biZI",
        "colab": {
          "base_uri": "https://localhost:8080/",
          "height": 282
        },
        "outputId": "d7fbe285-85c4-4a67-a1e2-ec9908d2f044"
      },
      "source": [
        "#program to calculate mean,median,mode,quartiles and standard deviation and to draw bar graph\n",
        "import numpy as np\n",
        "from matplotlib import pyplot as plt\n",
        "%matplotlib inline\n",
        "\n",
        "a=[161, 164, 165, 173, 186, 196, 197, 212, 213, 213, 219, 219, 221, 225, 229,\n",
        "   232, 244, 247, 251, 251, 252, 260, 261, 269, 269, 272, 277, 283, 290, 314]\n",
        "length=len(a)\n",
        "mean=sum(a)/length\n",
        "if length%2 == 0:\n",
        "    median = ((a[int(length/2)]+a[int((length/2)+1)]))/2\n",
        "else:\n",
        "    median =a[int((length +1)/2)]\n",
        "sums=0\n",
        "for i in a:\n",
        "    sums=sums+((i-mean)**2)\n",
        "sd=(sums/length)**(0.5)\n",
        "print(length,mean,median,sd)\n",
        "plt.hist(a,bins=10)\n",
        "plt.show()"
      ],
      "execution_count": null,
      "outputs": [
        {
          "output_type": "stream",
          "text": [
            "30 232.16666666666666 238.0 39.191056235943535\n"
          ],
          "name": "stdout"
        },
        {
          "output_type": "display_data",
          "data": {
            "image/png": "[encoded data removed]",
            "text/plain": [
              "<Figure size 432x288 with 1 Axes>"
            ]
          },
          "metadata": {
            "tags": [],
            "needs_background": "light"
          }
        }
      ]
    },
    {
      "cell_type": "markdown",
      "metadata": {
        "id": "1eoha_wEbiZJ"
      },
      "source": [
        "<hr>\n",
        "<b>5.</b> Determine the $30^{th}$ percentile of the following eight numbers: 14, 12, 19, 23, 5, 13, 28, 17.\n",
        "<p style=\"color: Blue\"> <span style=\"color: Black\">A:</span>ordered data: 5, 12, 13, 14, 17, 19, 23, 28\n",
        "<br> There are 8 values so 30th percentile = 30% of 8 = 2.4th = 2nd = 12</p>\n",
        "<hr>"
      ]
    },
    {
      "cell_type": "markdown",
      "metadata": {
        "id": "W0ipEW7CbiZJ"
      },
      "source": [
        "<b>6.</b> Explain following terms:\n",
        "<ul>\n",
        "    <li> Random Experiment\n",
        "        <p style=\"color: Blue\"> <span style=\"color: Black\">A:</span><b>Random Experiment</b> is an experiment, trial, or observation that can be repeated numerous times under the same conditions.</p></li>\n",
        "    <li> Event\n",
        "        <p style=\"color: Blue\"> <span style=\"color: Black\">A:</span><b>Event</b> is an outcome or defined collection of outcomes of a random experiment.</p></li>\n",
        "    <li> Probability estimation using relative frequency \n",
        "    <p style=\"color: Blue\"> <span style=\"color: Black\">A:</span>Relative frequency can be calculated by taking the count of an individual kind of outcome and divide by the total counts for all kinds of outcomes. </p></li>\n",
        "    <li> Marginal probability\n",
        "        <p style=\"color: Blue\"> <span style=\"color: Black\">A:</span><b>Marginal probability</b> is the probability of an event irrespective of the outcome of another variable.</p></li>\n",
        "    <li> Independent events \n",
        "        <p style=\"color: Blue\"> <span style=\"color: Black\">A:</span><b>Independent events</b> are those events whose occurrence is not dependent on any other event.</p></li>\n",
        "    <li> Conditional probability\n",
        "        <p style=\"color: Blue\"> <span style=\"color: Black\">A:</span><b>Conditional probability</b> is the probability of one event occurring with some relationship to one or more other events.</p></li>\n",
        "    <li> Random variables and its types(discrete and continuous random variables)\n",
        "    <p style=\"color: Blue\"> <span style=\"color: Black\">A:</span>A Random Variable is a set of possible values from a random experiment.</p><ul style=\"color: Blue\">\n",
        "        <li>A discrete variable is a variable whose value is obtained by counting. </li>\n",
        "        <li>A continuous variable is a variable whose value is obtained by measuring.</li>\n",
        "        </ul></li>\n",
        "    <li> Z-score\n",
        "        <p style=\"color: Blue\"> <span style=\"color: Black\">A:</span><b>Z-score</b> is a numerical measurement that describes a value's relationship to the mean of a group of values. Z-score is measured in terms of standard deviations from the mean.</p></li>   \n",
        "$$Z=\\left(\\frac{x-\\mu}{\\sigma}\\right)$$\n",
        "        \n",
        "</ul>"
      ]
    },
    {
      "cell_type": "markdown",
      "metadata": {
        "id": "dIY2Z199biZK"
      },
      "source": [
        "<hr>\n",
        "<b>7.</b> Shown here the raw values matrix and corresponding probability matrix for the results of a national survey of 200 executives who were asked to identify the geographic locale of their company and their company's industry type. The executives were only allowed to select one locale and one industry type.\n",
        "<center><b>RAW VALUES MATRIX</b> </center>\n",
        "<hrule> \n",
        " <table>\n",
        "     <tr><td colspan=3></td>\n",
        "         <td colspan=4><i>Geographic Location</i></td>\n",
        "         <td> </td>\n",
        "     </tr> \n",
        "     <tr><td colspan=3></td>\n",
        "         <td >Northeast</td>\n",
        "         <td>Southeast</td>\n",
        "         <td>Midwest</td>\n",
        "         <td>West</td>\n",
        "         <td> </td>\n",
        "     </tr>\n",
        "     <tr ><td colspan=3></td>\n",
        "         <td >D</td>\n",
        "         <td>E</td>\n",
        "         <td>F</td>\n",
        "         <td>G</td>\n",
        "         <td> </td>\n",
        "     </tr>\n",
        "     <tr><td rowspan=3><b>Industry Type</b></td>\n",
        "         <td colspan=2>Finance  A</td>\n",
        "         <td >24</td>\n",
        "         <td>10</td>\n",
        "         <td>8</td>\n",
        "         <td>14</td>\n",
        "         <td><b>56</b></td>\n",
        "     </tr>\n",
        "     <tr><td colspan=2>Manufacturing  B</td>\n",
        "         <td >30</td>\n",
        "         <td>6</td>\n",
        "         <td>22</td>\n",
        "         <td>12</td>\n",
        "         <td><b>70</b></td>\n",
        "     </tr>\n",
        "     <tr><td colspan=2>Communication  C</td>\n",
        "         <td >28</td>\n",
        "         <td>18</td>\n",
        "         <td>12</td>\n",
        "         <td>16</td>\n",
        "         <td><b>74</b></td>\n",
        "     </tr>\n",
        "     <tr><td colspan=3></td>\n",
        "         <td ><b>82</b></td>\n",
        "         <td><b>34</b></td>\n",
        "         <td><b>42</b></td>\n",
        "         <td><b>42</b></td>\n",
        "         <td><b>200</b></td>\n",
        "     </tr>\n",
        "    </table>\n",
        "    <hr>\n",
        "  <ul>\n",
        "      <li> Construct Probability matrix \n",
        "      <div style=\"color: Blue\"> A:\n",
        "      <table style=\"color: Blue\">\n",
        "     <tr><td colspan=3></td>\n",
        "         <td colspan=4><b>PROBABILITY MATRIX</b></td>\n",
        "         <td> </td>\n",
        "     </tr> \n",
        "     <tr><td colspan=3></td>\n",
        "         <td >Northeast</td>\n",
        "         <td>Southeast</td>\n",
        "         <td>Midwest</td>\n",
        "         <td>West</td>\n",
        "         <td> </td>\n",
        "     </tr>\n",
        "     <tr ><td colspan=3></td>\n",
        "         <td >D</td>\n",
        "         <td>E</td>\n",
        "         <td>F</td>\n",
        "         <td>G</td>\n",
        "         <td> </td>\n",
        "     </tr>\n",
        "     <tr><td rowspan=3><b>Industry Type</b></td>\n",
        "         <td colspan=2>Finance  A</td>\n",
        "         <td >$\\frac{24}{200}=0.12$</td>\n",
        "         <td>$\\frac{10}{200}=0.05$</td>\n",
        "         <td>$\\frac{8}{200}=0.04$</td>\n",
        "         <td>$\\frac{14}{200}=0.07$</td>\n",
        "         <td><b>$\\frac{56}{200}=0.28$</b></td>\n",
        "     </tr>\n",
        "     <tr><td colspan=2>Manufacturing  B</td>\n",
        "          <td >$$\\frac{30}{200}=0.15$$</td>\n",
        "         <td>$\\frac{6}{200}=0.03$</td>\n",
        "         <td>$\\frac{22}{200}=0.11$</td>\n",
        "         <td>$\\frac{12}{200}=0.06$</td>\n",
        "         <td><b>$\\frac{70}{200}=0.35$</b></td>\n",
        "     </tr>\n",
        "     <tr><td colspan=2>Communication  C</td>\n",
        "         <td >$\\frac{28}{200}=0.14$</td>\n",
        "         <td>$\\frac{18}{200}=0.09$</td>\n",
        "         <td>$\\frac{12}{200}=0.06$</td>\n",
        "         <td>$\\frac{16}{200}=0.08$</td>\n",
        "         <td><b>$\\frac{74}{200}=0.37$</b></td>\n",
        "     </tr>\n",
        "     <tr><td colspan=3></td>\n",
        "         <td ><b>$\\frac{82}{200}=0.41$</b></td>\n",
        "         <td><b>$\\frac{34}{200}=0.17$</b></td>\n",
        "         <td><b>$\\frac{42}{200}=0.21$</b></td>\n",
        "         <td><b>$\\frac{42}{200}=0.21$</b></td>\n",
        "         <td style=\"text-align:left\"><b>$\\frac{200}{200}=1$</b></td>\n",
        "     </tr>\n",
        "    </table> \n",
        "          </div>\n",
        "      </li>\n",
        "      <hr>\n",
        "      <li> Supppose a respondent is selected randomly from these data.\n",
        "           <ol>\n",
        "               <li> What is the probability that the respondent  is from the Midwest(F)?\n",
        "               <p style=\"color: Blue\"> <span style=\"color: Black\">A:</span>P(Midwest)=$$\\frac{favourable outcomes}{total outcomes}$$\n",
        "$$P(A)=\\frac{42}{200}=0.21$$</p></li>\n",
        "               <li> What is the probability that the respondent is from the communications industry(c) or from the Northeast(D)?\n",
        "               <p style=\"color: Blue\">  <span style=\"color: Black\">A:</span>P(communication or Northeast)=\n",
        "               $P(C\\cup N)$ $$P(C \\cup N)=P(C)+P(N)-P(C \\cap N)$$\n",
        "                   $$= \\frac{74}{200} + \\frac{82}{200} - \\frac{28}{200}$$\n",
        "                   $$P(C \\cup N)=0.37 + 0.41 - 0.14 = 0.64$$</p></li>\n",
        "               <li> What is the probability that the respondentis from the Southeast(E) or from the Finance industry(A)? \n",
        "               <p style=\"color: Blue\"> <span style=\"color: Black\">A:</span>P(southeast or finance)=$P(S\\cup F)$ $$P(S \\cup F)=P(S)+P(F)-P(S \\cap F)$$\n",
        "                   $$= \\frac{34}{200} + \\frac{56}{200} - \\frac{10}{200}$$\n",
        "                   $$P(C \\cup N)=0.17 + 0.28 - 0.05 = 0.4$$</p></li>\n",
        "          </ol>    \n",
        "      </li>\n",
        "      <hr>\n",
        "      <li> $P(B\\cap E)$ (<i>the probability of the intersection of two events $X\\cap Y $ is called the joint probability. Use law of multiplication) $$P(X\\cap Y) = P(X).P(Y|X) = P(Y).P(X|Y)$$</i>\n",
        "         <p style=\"color: Blue\"> <span style=\"color: Black\">A:</span>from table $$P(B\\cap E)=\\frac{6}{200}=0.03$$</p> </li>\n",
        "      <hr>\n",
        "       <li>$P(G\\cap A)$ \n",
        "      <p style=\"color: Blue\"> <span style=\"color: Black\">A:</span>from table $$P(G\\cap A)=\\frac{14}{200}=0.07$$ </p></li>   \n",
        "      <hr>\n",
        "      <li>$P(B\\cap C)$\n",
        "      <p style=\"color: Blue\"> <span style=\"color: Black\">A:</span>from table $$P(B\\cap C)=0$$</p></li>"
      ]
    },
    {
      "cell_type": "markdown",
      "metadata": {
        "id": "2uLTb6tCbiZK"
      },
      "source": [
        "<b>8.</b> A manufacturing firm produces pads of bound paper. 3% of all paper pads produced are improperly bound. An inspector randomly samples two pads of paper, one at a time. Because a large number of pads are being produced during the inspection, the sampling being done, in essence, is with replacement. what is the probability that the two pads selected are both improperly bound? (<i>if X,Y are independent, $P(X\\cap Y)=P(X).P(Y)$</i>)\n",
        "<p style=\"color: Blue\"> <span style=\"color: Black\">A:</span>\n",
        "p(improperly bound)=0.03 = P(B)<br>\n",
        "p(both are improperly bound)=P(B2).P(B1)<br>\n",
        "  $$P(B2 \\cap  B1)=(0.03).(0.03)$$\n",
        "$$P(B2\\cap B1)= 0.0009$$</p>"
      ]
    },
    {
      "cell_type": "markdown",
      "metadata": {
        "id": "3vM_mkDCbiZK"
      },
      "source": [
        "<b>9.</b> The data from the executive interviews given in demonstration problem 7 are repeated here. Use these data to find:\n",
        "<ul>\n",
        "    <li>P(B|F) (<i>Use conditonal probability</i>) \n",
        "    <p style=\"color: Blue\"> <span style=\"color: Black\">A:</span>\n",
        "$$P(B|F)=\\frac{P(B\\cap F)}{P(F)}=\\frac{\\frac{22}{200}}{\\frac{56}{200}}=\\frac{0.11}{0.28}=0.392857$$\n",
        "</p></li>\n",
        "    <hr>\n",
        "    <li>P(G|C)\n",
        "    <p style=\"color: Blue\"> <span style=\"color: Black\">A:</span>$$P(G|C)=\\frac{P(G\\cap C)}{P(C)}=\\frac{\\frac{16}{200}}{\\frac{74}{200}}=\\frac{0.08}{0.37}=0.2162$$\n",
        "        </p></li>\n",
        "    <hr>\n",
        "    <li>P(D|F)\n",
        "    <p style=\"color: Blue\"> <span style=\"color: Black\">A:</span>$$P(D|F)=\\frac{P(D\\cap F)}{P(F)}=\\frac{\\frac{0}{200}}{\\frac{42}{200}}=\\frac{0}{0.21}=0$$ \n",
        "        </p></li>\n",
        " </ul>   "
      ]
    },
    {
      "cell_type": "markdown",
      "metadata": {
        "id": "-ltguXD_biZL"
      },
      "source": [
        "<b>10.</b> During one holiday season, the Texas lottery played a game called the stocking stuffer. With this game, total instant winnings of $\\$34.8$ million were available in 70 million $\\$1$ tickets, with ticket prizes ranging from $\\$1$ to $\\$1,000$. Shown here are the various prizes and the probability of winning each prize. Use these data to compute the expected value of the game, the variance of game, and the standard deviation of the game. (<i>Use Discrete Random Variable concept</i>).\n",
        "<table>\n",
        "    <tr>\n",
        "    <th>PRIZE(x)</th>\n",
        "    <th>PROBABILITY P(x) </th>\n",
        "    </tr>\n",
        "    <tr>\n",
        "       <td>1,000</td>\n",
        "        <td>.00002</td>\n",
        "    </tr>\n",
        "    <tr>\n",
        "       <td>100</td>\n",
        "        <td>.00063</td>\n",
        "    </tr>\n",
        "    <tr>\n",
        "       <td>20</td>\n",
        "        <td>.00400</td>\n",
        "    </tr>\n",
        "    <tr>\n",
        "       <td>10</td>\n",
        "        <td>.00601</td>\n",
        "    </tr>\n",
        "    <tr>\n",
        "       <td>4</td>\n",
        "        <td>.02403</td>\n",
        "    </tr>\n",
        "    <tr>\n",
        "       <td>2</td>\n",
        "        <td>.08877</td>\n",
        "    </tr>\n",
        "    <tr>\n",
        "       <td>1</td>\n",
        "        <td>.10479</td>\n",
        "    </tr>\n",
        "    <tr>\n",
        "       <td>0</td>\n",
        "        <td>.77175</td>\n",
        "    </tr>\n",
        "    </table>\n",
        "    <p style=\"color: Blue\"> <span style=\"color:black\">A:</span></p>\n",
        "    <table style=\"color: Blue\">\n",
        "    <tr>\n",
        "    <th>PRIZE(x)</th>\n",
        "    <th>PROBABILITY P(x) </th>\n",
        "        <th>x.P(x)</th>\n",
        "    </tr>\n",
        "    <tr>\n",
        "       <td>1,000</td>\n",
        "        <td>.00002</td>\n",
        "        <td>.02000</td>\n",
        "    </tr>\n",
        "    <tr>\n",
        "       <td>100</td>\n",
        "        <td>.00063</td>\n",
        "        <td>.063</td>\n",
        "    </tr>\n",
        "    <tr>\n",
        "       <td>20</td>\n",
        "        <td>.00400</td>\n",
        "        <td>.080</td>\n",
        "    </tr>\n",
        "    <tr>\n",
        "       <td>10</td>\n",
        "        <td>.00601</td>\n",
        "        <td>.06010</td>\n",
        "    </tr>\n",
        "    <tr>\n",
        "       <td>4</td>\n",
        "        <td>.02403</td>\n",
        "        <td>.09612</td>\n",
        "    </tr>\n",
        "    <tr>\n",
        "       <td>2</td>\n",
        "        <td>.08877</td>\n",
        "        <td>.17754</td>\n",
        "    </tr>\n",
        "    <tr>\n",
        "       <td>1</td>\n",
        "        <td>.10479</td>\n",
        "        <td>.10479</td>\n",
        "    </tr>\n",
        "    <tr>\n",
        "       <td>0</td>\n",
        "        <td>.77175</td>\n",
        "        <td>.00000</td>\n",
        "    </tr>\n",
        "    </table>\n",
        "  <p style=\"color:blue\"> Expected value=E(X)= mean=$\\mu$=$\\Sigma x.P(x)=0.60155$</p>\n",
        "   <table style=\"color: Blue\">\n",
        "    <tr>\n",
        "    <th>PRIZE(x)</th>\n",
        "    <th>PROBABILITY P(x) </th>\n",
        "        <th>$(x-\\mu)^2$</th>\n",
        "        <th>$(x-\\mu)^2.P(x)$</th>\n",
        "    </tr>\n",
        "    <tr>\n",
        "       <td>1,000</td>\n",
        "        <td>.00002</td>\n",
        "        <td>998797.26190</td>\n",
        "        <td>19.97595</td>\n",
        "    </tr>\n",
        "    <tr>\n",
        "       <td>100</td>\n",
        "        <td>.00063</td>\n",
        "        <td>9880.05186</td>\n",
        "        <td>6.22443</td>\n",
        "    </tr>\n",
        "    <tr>\n",
        "       <td>20</td>\n",
        "        <td>.00400</td>\n",
        "        <td>376.29986</td>\n",
        "        <td>1.50520</td>\n",
        "    </tr>\n",
        "    <tr>\n",
        "       <td>10</td>\n",
        "        <td>.00601</td>\n",
        "        <td>88.33086</td>\n",
        "        <td>0.53087</td>\n",
        "    </tr>\n",
        "    <tr>\n",
        "       <td>4</td>\n",
        "        <td>.02403</td>\n",
        "        <td>11.54946</td>\n",
        "        <td>0.27753</td>\n",
        "    </tr>\n",
        "    <tr>\n",
        "       <td>2</td>\n",
        "        <td>.08877</td>\n",
        "        <td>1.95566</td>\n",
        "        <td>.17360</td>\n",
        "    </tr>\n",
        "    <tr>\n",
        "       <td>1</td>\n",
        "        <td>.10479</td>\n",
        "        <td>.15876</td>\n",
        "        <td>.01664</td>\n",
        "    </tr>\n",
        "    <tr>\n",
        "       <td>0</td>\n",
        "        <td>.77175</td>\n",
        "        <td>.36186</td>\n",
        "        <td>.27927</td>\n",
        "    </tr>\n",
        "    </table>\n",
        "   <p style=\"color:blue\"> variance= $\\sigma ^2=\\Sigma(x-\\mu)^2.P(x) = 28.98349$ <br>\n",
        "   standard deviation=SD= $\\sigma=\\sqrt(28.98349)=5.38363$ </p>"
      ]
    },
    {
      "cell_type": "markdown",
      "metadata": {
        "id": "ebmu2nmnbiZL"
      },
      "source": [
        "<b>11.</b> What is discrete distributions and continuous distributions? Explain discrete (Binomial distribution, Poisson distributions, Geometric distributions) distributions, continuous (Uniform distribution, Exponential distribution, Normal disribution) distributions.\n",
        "<p style=\"color: Blue\"><span style=\"color:Black\"> A:</span> <b>Discrete distribution</b> is one in which the data can only take on certain values, for example integers.\n",
        "<ul style=\"color: Blue\">\n",
        "    <li>The <b>Binomial Distribution</b> represents the number of\n",
        "successes and failures in n independent Bernoulli trials for some given value\n",
        "of n.\n",
        "    $$f_X(x)=\\binom{n}{k} p^x(1-p)^{n-x}$$\n",
        "        $$Mean=E(X)=np$$\n",
        "        $$variance=var(X)=np(1-p)$$\n",
        "    </li>\n",
        "    <li>The <b>Poisson distribution</b> is the limiting case of the binomial distribution\n",
        "where $p \\to 0$ and $n \\to \\infty$. \n",
        "     $$f_X(x)=\\frac{\\lambda^x e^{-\\lambda}}{x!}$$\n",
        "    $$mean=E(X)=variance=var(X)=\\lambda$$\n",
        "    </li>\n",
        "    <li>The <b>geometric distribution</b> gets its name from the geometric series.\n",
        "       $$f_X(x)=p(1-p)^{n-1}$$\n",
        "        $$Mean=E(X)=\\frac{n}{p}$$\n",
        "       $$variance=var(X)=\\frac{1-p}{p^2}$$\n",
        "    </li>\n",
        "    </ul>\n",
        "</p>\n",
        "<p style=\"color: Blue\"> <b>Continuous Distribution</b> is one in which data can take on any value within a specified range (which may be infinite).\n",
        " <ul style=\"color: Blue\">\n",
        "    <li>The <b>Uniform Distribution</b> The pdf for values uniformly distributed across [a,b] is given by\n",
        "    $$f_X(x)=\\frac{1}{b-a}$$\n",
        "        $$Mean=E(X)=\\frac{b+a}{2}$$\n",
        "        $$variance=var(X)=\\frac{(b-a)^2}{12}$$\n",
        "    </li>\n",
        "    <li>The <b>Normal distribution</b> For a finite population the mean (m) and standard deviation (s) provide a measure of average value and degree of variation from the average value.\n",
        "     $$f_X(x)=\\frac{1}{\\sqrt{2\\pi}\\sigma}e^{\\frac{(x-\\mu)^2}{2\\sigma ^2}}$$\n",
        "    $$mean=E(X)=\\mu$$\n",
        "        $$variance=var(X)=\\sigma ^2$$\n",
        "    </li>\n",
        "    <li>The <b>Exponential distribution</b> the number of arrivals during an interval\n",
        "is Poisson distributed (i.e., the arrival times are Poisson distributed), then the\n",
        "interarrival times are exponentially distributed. \n",
        "       $$f_X(x)=\\lambda e^{-\\lambda x}$$\n",
        "        $$Mean=E(X)=\\frac{1}{\\lambda}$$\n",
        "       $$variance=var(X)=\\frac{1}{\\lambda^2}$$\n",
        "    </li>\n",
        "    </ul>   \n",
        "    </p>"
      ]
    },
    {
      "cell_type": "markdown",
      "metadata": {
        "id": "K6PZfdsxbiZM"
      },
      "source": [
        "<hr>\n",
        "<b>12.</b> A Gallup survey found that 65% of all financial consumers were very satisfied with their primary financial institution. Suppose that 25 financial consumers are sampled and if the Gallup survey result still holds true today, what is the probability that exactly 19 are very satisfied with their primary financial institution?\n",
        "<p style=\"color: Blue\"> <span style=\"color:black\"> A:</span>The value of p is .65 (very satisfied), the value of q = 1 - p = 1 - 0.65 = 0.35 (not verysatisfied), n = 25, and x = 19. The binomial formula yields the final answer.\n",
        "$$\\binom{25}{19}(0.65)^19(0.35)^{25-19}=0.908$$\n",
        "</p>"
      ]
    },
    {
      "cell_type": "markdown",
      "metadata": {
        "id": "qxy2hEcMbiZM"
      },
      "source": [
        "<hr>\n",
        "<b>13.</b> According to the U.S. Census Bureau, approximately 6% of all workers in jackson, Mississippi, are unemployed. In conducting a random telephone survey in Jackson, what is the probability of getting two or fewer unemployed workers in a sample of 20?\n",
        "<p style=\"color: Blue\"> <span style=\"color:black\">A:</span>This problem must be worked as the union of three problems: (1) zero unemployed,\n",
        "x = 0; (2) one unemployed, x = 1; and (3) two unemployed, x = 2. In each problem,\n",
        "p = 0.06, q = 0.94, and n = 20. The binomial formula gives the following result.\n",
        "$$P(X=0)+P(X=1)+P(X=2)$$\n",
        "    $$=\\binom{20}{0}(0.60)^0(0.94)^{20} +\\binom{20}{1}(0.60)^1(0.94)^{19} + \\binom{20}{2}(0.60)^2(0.94)^{18}$$\n",
        "    $$=0.2901+0.3703+0.2246$$\n",
        "    $$=0.8850$$\n",
        "</p>\n",
        "<hr>"
      ]
    },
    {
      "cell_type": "markdown",
      "metadata": {
        "id": "fcmIm6JdbiZM"
      },
      "source": [
        "<b>14.</b> Bank customers arrive randomly on weekday afternoon at an average of 3.2 customers every 4 minutes. What is the probablity of having more than 7 customers in 4 minute interval on a weekday afternoon?\n",
        "<p style=\"color: Blue\"> <span style=\"color:black\">A:</span>\n",
        "$\\lambda$ = 3.2\\4 minutes $$P(X>7)=P(X=8)+P(X=9)+P(X=10)+P(X=11)+P(X=12)+P(X=13)+P(X=14)...........\\infty$$\n",
        "$$P(X=8)=(3.2)^{8}e^{-(3.2)8}=0.0111 $$\n",
        "$$P(X=9)=(3.2)^{9}e^{-(3.2)9}=0.0040 $$\n",
        "$$P(X=10)=(3.2)^{10}e^{-(3.2)10}=0.0013 $$\n",
        "$$P(X=11)=(3.2)^{11}e^{-(3.2)11}=0.0004 $$\n",
        "$$P(X=12)=(3.2)^{12}e^{-(3.2)12}=0.0.0001 $$\n",
        "$$P(X=13)=(3.2)^{13}e^{-(3.2)13}=0.0000 $$\n",
        "    $$P(X>7)=P(X \\geq 8)= 0.169$$\n",
        "</p>"
      ]
    },
    {
      "cell_type": "markdown",
      "metadata": {
        "id": "mp4nCICqbiZN"
      },
      "source": [
        "<hr>\n",
        "<b>15.</b> Suppose Max owns a lightbulb manufacturing company and determines that 3 out of every 75 bulbs are defective. What is the probability that Max will find the first faulty lightbulb on the 6th one that he tested?\n",
        "<p style=\"color: Blue\"> <span style=\"color:black\">A:</span>\n",
        "p(getting defective)=$\\frac{3}{75}$=0.04\n",
        "$$P(X=6)=(0.04)(1-0.04)^{6-1}$$\n",
        "$$P(X=6)=(0.04)(0.96)^5=0.0326$$</p>"
      ]
    },
    {
      "cell_type": "markdown",
      "metadata": {
        "id": "SwGQRExfbiZN"
      },
      "source": [
        "<hr>\n",
        "<b>16.</b> Suppose the amount of time it takes to assemble a plastic module ranges from 27 to 39 seconds and that assembly times are uniformly distributed. Describe the distribution. What is the probability that a given assembly will take between 30 and 35 seconds? Fewer than 30 seconds?\n",
        "<p style=\"color: Blue\"> <span style=\"color:black\">A:</span>\n",
        "$$P(30 \\leq X \\leq 35)=\\int_{30}^{35} \\frac{1}{39-27} dx $$\n",
        "$$=\\frac{1}{12} \\int_{30}^{35} dx $$\n",
        "$$=\\frac{1}{12} [X]_{30}^{35}$$\n",
        "$$=\\frac{5}{12} = 0.4167$$\n",
        "probability that it will take fewer than 30 sec is\n",
        "    $$P(X < 30)==\\int_{27}^{30} \\frac{1}{39-27} dx$$\n",
        "    $$=\\frac{1}{12} \\int_{27}^{30} dx $$\n",
        "$$=\\frac{1}{12} [X]_{27}^{30}$$\n",
        "$$=\\frac{3}{12} = 0.2500$$\n",
        "    </p>"
      ]
    },
    {
      "cell_type": "markdown",
      "metadata": {
        "id": "m9II1jmobiZN"
      },
      "source": [
        "<hr>\n",
        "<b>17.</b> What is the probability of obtaining a score greater than 700 on a GMAT test that has a mean of 494and a standard deviation of 100? Assume GMAT scores are normally distributed.(<i>Use Z-score table</i>)$$P(x>700 \\hspace{0.5mm}|\\hspace{0.5mm}\\mu \\hspace{0.5mm}= \\hspace{0.5mm}494 \\hspace{0.5mm}and\\hspace{0.5mm} \\sigma \\hspace{0.5mm} =\\hspace{0.5mm} 100)\\hspace{0.8mm}= \\hspace{0.8mm}? $$\n",
        "<p style=\"color: Blue\"><span style=\"color:black\">A:</span>\n",
        "$$P(X>700)=1-P(X \\leq 700)$$\n",
        "$$=1-F_X(700)$$\n",
        "$$=1-\\Phi(\\frac{700-494}{100})$$\n",
        "$$=1-\\Phi(2.06)$$\n",
        "from table $\\Phi(2.06) = 0.4803 $\n",
        "$$P(X>700)=1-0.4803=0.52$$</p>"
      ]
    },
    {
      "cell_type": "markdown",
      "metadata": {
        "id": "KGrYBKRtbiZO"
      },
      "source": [
        "<hr>\n",
        "<b>18.</b> Most graduate schools of business require applicnats for admission to take the Graduate Management Admisssion Council's GMAT examination. Scores on the GMAT are roughly normally distributed with a mean of 527 and a standard deviation of 112. what is the probability of an individual scoring above 500 on the GMAT?(<i>Use Z-score table</i>).\n",
        "<p style=\"color: Blue\"> <span style=\"color:black\">A:</span>\n",
        "$$P(X > 500)=1-P(X \\leq 500)$$\n",
        "$$=1-F_X(500)$$\n",
        "$$=1-\\Phi(\\frac{500-527}{112})$$\n",
        "$$=1-\\Phi(-0.24107)$$\n",
        "from table $\\Phi(-0.24107) =1-\\Phi(0.24)= 0.0948$\n",
        "$$P(X>500)=1-0.0948=0.9052$$</p>\n",
        "<hr>"
      ]
    }
  ]
}